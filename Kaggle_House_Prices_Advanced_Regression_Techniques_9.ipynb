{
 "cells": [
  {
   "cell_type": "code",
   "execution_count": 92,
   "metadata": {},
   "outputs": [],
   "source": [
    "import numpy as np\n",
    "import pandas as pd\n",
    "import matplotlib.pyplot as plt\n",
    "import sklearn as sk\n",
    "import scipy as sp\n",
    "import seaborn as sns\n",
    "import statsmodels.api as sm\n",
    "import statsmodels.imputation.mice as mice\n",
    "\n",
    "from sklearn.svm import SVR,SVC\n",
    "from sklearn.cluster import KMeans\n",
    "from sklearn.preprocessing import Normalizer,MinMaxScaler,OneHotEncoder,StandardScaler,LabelEncoder,RobustScaler\n",
    "from sklearn.model_selection import KFold,StratifiedKFold,cross_val_score,GridSearchCV,train_test_split\n",
    "from sklearn.ensemble import RandomForestRegressor,GradientBoostingRegressor\n",
    "from sklearn.linear_model import LinearRegression\n",
    "from sklearn.preprocessing import PolynomialFeatures\n",
    "from sklearn.metrics import mean_squared_error,mean_squared_error\n",
    "from sklearn.impute import SimpleImputer,KNNImputer\n",
    "from sklearn.pipeline import make_pipeline\n",
    "from scipy import stats\n",
    "import xgboost as xgb\n",
    "import lightgbm as lgb\n",
    "from sklearn.linear_model import ElasticNet,Lasso\n",
    "\n",
    "\n",
    "%matplotlib inline"
   ]
  },
  {
   "cell_type": "code",
   "execution_count": 41,
   "metadata": {
    "scrolled": true
   },
   "outputs": [
    {
     "name": "stdout",
     "output_type": "stream",
     "text": [
      "Train shape is (1460, 80) and Test shape is (1459, 79)\n"
     ]
    }
   ],
   "source": [
    "Train=pd.read_csv('Downloads/train_house.csv',index_col=0)\n",
    "Test=pd.read_csv('Downloads/test.csv',index_col=0)\n",
    "print('Train shape is',Train.shape, 'and Test shape is', Test.shape)"
   ]
  },
  {
   "cell_type": "code",
   "execution_count": 42,
   "metadata": {
    "scrolled": false
   },
   "outputs": [
    {
     "name": "stdout",
     "output_type": "stream",
     "text": [
      "(2919, 79)\n"
     ]
    }
   ],
   "source": [
    "Train_no_sales=Train.drop(columns=['SalePrice'])\n",
    "Merged=pd.concat([Train_no_sales,Test],ignore_index=False,sort=False)\n",
    "print(Merged.shape)"
   ]
  },
  {
   "cell_type": "markdown",
   "metadata": {},
   "source": [
    "Important functions for future"
   ]
  },
  {
   "cell_type": "code",
   "execution_count": 43,
   "metadata": {},
   "outputs": [],
   "source": [
    "def categorical_study_graph(Variable):\n",
    "\n",
    "    fig, ((ax1, ax2), (ax3, ax4)) = plt.subplots(2,2,figsize=(15, 10))\n",
    "    sns.barplot(x=Variable, y='SalePrice',capsize=0.5, data=Train,ax=ax1)\n",
    "    sns.boxplot(x=Variable,y='SalePrice',data=Train,ax=ax2)\n",
    "    sns.swarmplot(x=Variable,y='SalePrice',data=Train,ax=ax2)\n",
    "    sns.countplot(x=Variable,data=Train,ax=ax3)\n",
    "    sns.violinplot(x=Variable,y='SalePrice',scale=\"count\",data=Train,ax=ax4)\n",
    "    plt.show()\n",
    "    Variable_df=Train.groupby(Variable)['SalePrice'].agg(['mean','std','median','count']).sort_values(['mean','count'],ascending=False)\n",
    "    print(Variable_df)\n",
    "    return Variable_df"
   ]
  },
  {
   "cell_type": "code",
   "execution_count": 44,
   "metadata": {},
   "outputs": [],
   "source": [
    "def mapper(Variable,The_map):\n",
    "    Train[Variable]=Train[Variable].map(The_map)\n",
    "    Test[Variable]=Test[Variable].map(The_map)\n",
    "    Merged[Variable]=Merged[Variable].map(The_map)"
   ]
  },
  {
   "cell_type": "code",
   "execution_count": 45,
   "metadata": {},
   "outputs": [],
   "source": [
    "def reverser(Variable_R):\n",
    "    Train[Variable_R]=Train_Copy[Variable_R]\n",
    "    Test[Variable_R]=Test_Copy[Variable_R]\n",
    "    Merged[Variable_R]=Merged_Copy[Variable_R]"
   ]
  },
  {
   "cell_type": "code",
   "execution_count": 46,
   "metadata": {},
   "outputs": [],
   "source": [
    "def catergorical_name_transformer(Variable,new_name_initials):\n",
    "    Keys=list(Merged[Variable].unique())\n",
    "    L=len(list(Merged[Variable].unique()))\n",
    "    Values=[new_name_initials+str(i) for i in range(L)]\n",
    "    Map=dict(zip(Keys,Values))\n",
    "    mapper(Variable,Map)"
   ]
  },
  {
   "cell_type": "code",
   "execution_count": 47,
   "metadata": {},
   "outputs": [],
   "source": [
    "def Remove_MergedTest_NotInTrain(Variable):\n",
    "    Merged_element=Merged[Variable].unique()\n",
    "    Train_element=Train[Variable].unique()\n",
    "    Not_In_Train=[i for i in Merged_element if i not in Train_element]\n",
    "    L_Not_In_Train=len(Not_In_Train)\n",
    "    Top_Train_Elements=list(Train.groupby(Variable)['SalePrice'].count().sort_values()[:L_Not_In_Train].index)\n",
    "    Replacement_dict=dict(zip(Not_In_Train,Top_Train_Elements))\n",
    "    for i,j in Replacement_dict.items():\n",
    "        Test[Variable]=Test[Variable].replace(to_replace=i, value=j)\n",
    "        Merged[Variable]=Merged[Variable].replace(to_replace=i, value=j)\n",
    "        print('Due to absense of'+str(i)+' in Train DataFrame, it was replaced with '+str(j))"
   ]
  },
  {
   "cell_type": "code",
   "execution_count": 48,
   "metadata": {},
   "outputs": [],
   "source": [
    "def convert_nom_to_num(Variable):\n",
    "    The_map=dict(zip(['TA', 'Gd', 'Fa', 'Po', 'Ex'],[0.5,0,-0.5,-1,1]))\n",
    "    mapper(Variable,The_map)\n",
    "    Train[Variable]=pd.to_numeric(Train[Variable],errors='coerce')\n",
    "    Test[Variable]=pd.to_numeric(Test[Variable],errors='coerce')\n",
    "    Merged[Variable]=pd.to_numeric(Merged[Variable],errors='coerce')"
   ]
  },
  {
   "cell_type": "code",
   "execution_count": 49,
   "metadata": {},
   "outputs": [],
   "source": [
    "def Categorical_Dimension_reducer(Variable):\n",
    "    \n",
    "    if len(Merged[Variable].unique())!=len(Train[Variable].unique()):\n",
    "        Remove_MergedTest_NotInTrain(Variable)\n",
    "    if any([str(i)[0].isdigit() for i in list(Train[Variable].unique())]):\n",
    "        new_name_initials=input('The categorical variables started with integers. Enter non digit initials ending with _  ')\n",
    "        catergorical_name_transformer(Variable,new_name_initials)\n",
    "        \n",
    "    Variable_df=categorical_study_graph(Variable)\n",
    "    Original_indexes=Variable_df.index\n",
    "    Variable_df.insert(loc=0,column='New',value=Original_indexes)\n",
    "    Variable_df.insert(loc=0,column='Original',value=Original_indexes)\n",
    "    Variable_df=Variable_df.reset_index(drop=True)\n",
    "    Variable_df.index.name='Index'\n",
    "\n",
    "    L=len(list(Variable_df.index))\n",
    "    counter=0\n",
    "    Flag=False\n",
    "    print(Variable_df)\n",
    "    while Flag==False and counter<(2*L):\n",
    "        counter+=1\n",
    "        To_Change_row = int(input(\"New Index (to be changed) -1 to exit:  \"))\n",
    "        if To_Change_row>L or To_Change_row<-1:\n",
    "            print('Wrong key pressed')\n",
    "        elif To_Change_row==-1:\n",
    "            Flag=True   \n",
    "        else:\n",
    "            Flag1=False\n",
    "            counter1=0\n",
    "            while Flag1==False and counter1<3:\n",
    "                counter1+=1\n",
    "                String=str(Variable_df.loc[To_Change_row,'New'])\n",
    "                Sub = int(input(\"Replace \"+String+\" in New-column with ... from Original Index or -1:  \"))\n",
    "                if Sub>L or Sub<-1:\n",
    "                    print('Wrong key pressed')\n",
    "                elif Sub in range(L):\n",
    "                    Variable_df.loc[To_Change_row,'New']=Variable_df.loc[Sub,'Original']\n",
    "                    Flag1=True\n",
    "                    print(Variable_df)\n",
    "                elif Sub==-1:\n",
    "                    Flag1=True\n",
    "    print('The final version is:')\n",
    "    print(Variable_df)\n",
    "    print()\n",
    "    The_map=dict(zip(list(Variable_df.Original),list(Variable_df.New)))\n",
    "    print('The map dictionary is:')\n",
    "    print(The_map)\n",
    "    print()\n",
    "    Train[Variable]=Train[Variable].map(The_map)\n",
    "    Test[Variable]=Test[Variable].map(The_map)\n",
    "    Merged[Variable]=Merged[Variable].map(The_map)\n",
    "    print('The final graph is:')\n",
    "    Variable_df=categorical_study_graph(Variable)\n",
    "    print()\n",
    "    print('Do you want to save the updates on a file on your drive?')\n",
    "    Save=bool(int(input('if so, enter 1, otherwise enter 0: ')))\n",
    "    if Save==True:\n",
    "        Merged.to_csv(Saved_Merge)\n",
    "        print('Your file name is: ',Saved_Merge)\n",
    "    \n",
    "    return Variable_df"
   ]
  },
  {
   "cell_type": "code",
   "execution_count": 50,
   "metadata": {},
   "outputs": [],
   "source": [
    "def rem_excess_cat_el_w_diag(Variable):\n",
    "    if len(Merged[Variable].unique())!=len(Train[Variable].unique()):\n",
    "        Remove_MergedTest_NotInTrain(Variable)\n",
    "    if any([str(i)[0].isdigit() for i in list(Train[Variable].unique())]):\n",
    "        new_name_initials=input('The categorical variables started with integers. Enter non digit initials ending with _  ')\n",
    "        catergorical_name_transformer(Variable,new_name_initials)\n",
    "    Variable_df=categorical_study_graph(Variable)\n",
    "    Original_indexes=Variable_df.index\n",
    "    Variable_df.insert(loc=0,column='New',value=Original_indexes)\n",
    "    Variable_df=Variable_df.reset_index(drop=True)\n",
    "    Variable_df.index.name='Index'\n",
    "\n",
    "    Variable_df['From_Top']=abs(Variable_df['mean'].diff(periods=1).fillna(0))\n",
    "    count_min_thresh=25\n",
    "    Index_count_min=Variable_df['count'].idxmin()\n",
    "    count_min=Variable_df.loc[Index_count_min,'count']\n",
    "\n",
    "    while count_min<count_min_thresh:\n",
    "\n",
    "        if Index_count_min==0:\n",
    "            Index_to_merge=1\n",
    "        elif Index_count_min==len(Variable_df.index)-1:\n",
    "            Index_to_merge=len(Variable_df.index)-2\n",
    "        else:\n",
    "            Index_count_min_1=Index_count_min+1\n",
    "            if Variable_df.loc[Index_count_min,'From_Top']>=Variable_df.loc[Index_count_min+1,'From_Top']:\n",
    "                Index_to_merge=Index_count_min+1\n",
    "            else:\n",
    "                Index_to_merge=Index_count_min-1\n",
    "\n",
    "        to_replace=Variable_df.loc[Index_count_min,'New']\n",
    "        replacer=Variable_df.loc[Index_to_merge,'New']\n",
    "    \n",
    "        Train[Variable]=Train[Variable].replace(to_replace=to_replace, value=replacer)\n",
    "        Test[Variable]=Test[Variable].replace(to_replace=to_replace, value=replacer)\n",
    "        Merged[Variable]=Merged[Variable].replace(to_replace=to_replace, value=replacer)\n",
    "        Variable_df=Train.groupby(Variable)['SalePrice'].agg(['mean','count']).sort_values(['mean','count'],ascending=False)\n",
    "        Original_indexes=Variable_df.index\n",
    "        Variable_df.insert(loc=0,column='New',value=Original_indexes)\n",
    "        Variable_df=Variable_df.reset_index(drop=True)\n",
    "        Variable_df.index.name='Index'\n",
    "        Variable_df['From_Top']=abs(Variable_df['mean'].diff(periods=1).fillna(0))\n",
    "    \n",
    "        Index_count_min=Variable_df['count'].idxmin()\n",
    "        count_min=Variable_df.loc[Index_count_min,'count']\n",
    "    \n",
    "    print('After minimum count fixing, the final graph is:')\n",
    "    Variable_df=categorical_study_graph(Variable)\n",
    "\n",
    "    Original_indexes=Variable_df.index\n",
    "    Variable_df.insert(loc=0,column='New',value=Original_indexes)\n",
    "    Variable_df=Variable_df.reset_index(drop=True)\n",
    "    Variable_df.index.name='Index'\n",
    "\n",
    "    diff_thresh=1000\n",
    "    Variable_df['From_Top']=abs(Variable_df['mean'].diff(periods=1).fillna(diff_thresh+1))\n",
    "\n",
    "    Index_diff=Variable_df['From_Top'].idxmin()\n",
    "    diff_min=Variable_df.loc[Index_diff,'From_Top']\n",
    "\n",
    "    while (diff_min<diff_thresh):\n",
    "\n",
    "        to_replace=Variable_df.loc[Index_diff,'New']\n",
    "        replacer=Variable_df.loc[Index_diff-1,'New']\n",
    "    \n",
    "        Train[Variable]=Train[Variable].replace(to_replace=to_replace, value=replacer)\n",
    "        Test[Variable]=Test[Variable].replace(to_replace=to_replace, value=replacer)\n",
    "        Merged[Variable]=Merged[Variable].replace(to_replace=to_replace, value=replacer)\n",
    "        Variable_df=Train.groupby(Variable)['SalePrice'].agg(['mean']).sort_values(['mean'],ascending=False)\n",
    "        Original_indexes=Variable_df.index\n",
    "        Variable_df.insert(loc=0,column='New',value=Original_indexes)\n",
    "        Variable_df=Variable_df.reset_index(drop=True)\n",
    "        Variable_df.index.name='Index'\n",
    "        Variable_df['From_Top']=abs(Variable_df['mean'].diff(periods=1).fillna(diff_thresh+1))\n",
    "    \n",
    "        Index_diff_min=Variable_df['From_Top'].idxmin()\n",
    "        diff_min=Variable_df.loc[Index_diff_min,'From_Top']\n",
    "    \n",
    "    print('After minimum count fixing, the final graph is:')\n",
    "    Variable_df=categorical_study_graph(Variable)"
   ]
  },
  {
   "cell_type": "code",
   "execution_count": 51,
   "metadata": {},
   "outputs": [],
   "source": [
    "def rem_excess_cat_el_w_O_diag(Variable,diff_thresh=1000,count_min_thresh=25):\n",
    "    if len(Merged[Variable].unique())!=len(Train[Variable].unique()):\n",
    "        Remove_MergedTest_NotInTrain(Variable)\n",
    "    if any([str(i)[0].isdigit() for i in list(Train[Variable].unique())]):\n",
    "        num=str(np.random.randint(0, 9999))\n",
    "        new_name_initials='Input'+'_'+num+'_'\n",
    "        catergorical_name_transformer(Variable,new_name_initials)\n",
    "    Variable_df=Train.groupby(Variable)['SalePrice'].agg(['mean','count']).sort_values(['mean','count'],ascending=False)\n",
    "    Original_indexes=Variable_df.index\n",
    "    Variable_df.insert(loc=0,column='New',value=Original_indexes)\n",
    "    Variable_df=Variable_df.reset_index(drop=True)\n",
    "    Variable_df.index.name='Index'\n",
    "\n",
    "    Variable_df['From_Top']=abs(Variable_df['mean'].diff(periods=1).fillna(0))\n",
    "\n",
    "    Index_count_min=Variable_df['count'].idxmin()\n",
    "    count_min=Variable_df.loc[Index_count_min,'count']\n",
    "\n",
    "    while count_min<count_min_thresh:\n",
    "\n",
    "        if Index_count_min==0:\n",
    "            Index_to_merge=1\n",
    "        elif Index_count_min==len(Variable_df.index)-1:\n",
    "            Index_to_merge=len(Variable_df.index)-2\n",
    "        else:\n",
    "            Index_count_min_1=Index_count_min+1\n",
    "            if Variable_df.loc[Index_count_min,'From_Top']>=Variable_df.loc[Index_count_min+1,'From_Top']:\n",
    "                Index_to_merge=Index_count_min+1\n",
    "            else:\n",
    "                Index_to_merge=Index_count_min-1\n",
    "\n",
    "        to_replace=Variable_df.loc[Index_count_min,'New']\n",
    "        replacer=Variable_df.loc[Index_to_merge,'New']\n",
    "    \n",
    "        Train[Variable]=Train[Variable].replace(to_replace=to_replace, value=replacer)\n",
    "        Test[Variable]=Test[Variable].replace(to_replace=to_replace, value=replacer)\n",
    "        Merged[Variable]=Merged[Variable].replace(to_replace=to_replace, value=replacer)\n",
    "        Variable_df=Train.groupby(Variable)['SalePrice'].agg(['mean','count']).sort_values(['mean','count'],ascending=False)\n",
    "        Original_indexes=Variable_df.index\n",
    "        Variable_df.insert(loc=0,column='New',value=Original_indexes)\n",
    "        Variable_df=Variable_df.reset_index(drop=True)\n",
    "        Variable_df.index.name='Index'\n",
    "        Variable_df['From_Top']=abs(Variable_df['mean'].diff(periods=1).fillna(0))\n",
    "    \n",
    "        Index_count_min=Variable_df['count'].idxmin()\n",
    "        count_min=Variable_df.loc[Index_count_min,'count']\n",
    "    \n",
    "    Variable_df=Train.groupby(Variable)['SalePrice'].agg(['mean']).sort_values(['mean'],ascending=False)\n",
    "    Original_indexes=Variable_df.index\n",
    "    Variable_df.insert(loc=0,column='New',value=Original_indexes)\n",
    "    Variable_df=Variable_df.reset_index(drop=True)\n",
    "    Variable_df.index.name='Index'\n",
    "\n",
    "    Variable_df['From_Top']=abs(Variable_df['mean'].diff(periods=1).fillna(diff_thresh+1))\n",
    "\n",
    "    Index_diff=Variable_df['From_Top'].idxmin()\n",
    "    diff_min=Variable_df.loc[Index_diff,'From_Top']\n",
    "\n",
    "    while (diff_min<diff_thresh):\n",
    "\n",
    "        to_replace=Variable_df.loc[Index_diff,'New']\n",
    "        replacer=Variable_df.loc[Index_diff-1,'New']\n",
    "    \n",
    "        Train[Variable]=Train[Variable].replace(to_replace=to_replace, value=replacer)\n",
    "        Test[Variable]=Test[Variable].replace(to_replace=to_replace, value=replacer)\n",
    "        Merged[Variable]=Merged[Variable].replace(to_replace=to_replace, value=replacer)\n",
    "        Variable_df=Train.groupby(Variable)['SalePrice'].agg(['mean']).sort_values(['mean'],ascending=False)\n",
    "        Original_indexes=Variable_df.index\n",
    "        Variable_df.insert(loc=0,column='New',value=Original_indexes)\n",
    "        Variable_df=Variable_df.reset_index(drop=True)\n",
    "        Variable_df.index.name='Index'\n",
    "        Variable_df['From_Top']=abs(Variable_df['mean'].diff(periods=1).fillna(diff_thresh+1))\n",
    "    \n",
    "        Index_diff_min=Variable_df['From_Top'].idxmin()\n",
    "        diff_min=Variable_df.loc[Index_diff_min,'From_Top']"
   ]
  },
  {
   "cell_type": "code",
   "execution_count": 52,
   "metadata": {},
   "outputs": [
    {
     "data": {
      "text/plain": [
       "MSZoning           4\n",
       "LotFrontage      486\n",
       "Alley           2721\n",
       "Utilities          2\n",
       "Exterior1st        1\n",
       "Exterior2nd        1\n",
       "MasVnrType        24\n",
       "MasVnrArea        23\n",
       "BsmtQual          81\n",
       "BsmtCond          82\n",
       "BsmtExposure      82\n",
       "BsmtFinType1      79\n",
       "BsmtFinSF1         1\n",
       "BsmtFinType2      80\n",
       "BsmtFinSF2         1\n",
       "BsmtUnfSF          1\n",
       "TotalBsmtSF        1\n",
       "Electrical         1\n",
       "BsmtFullBath       2\n",
       "BsmtHalfBath       2\n",
       "KitchenQual        1\n",
       "Functional         2\n",
       "FireplaceQu     1420\n",
       "GarageType       157\n",
       "GarageYrBlt      159\n",
       "GarageFinish     159\n",
       "GarageCars         1\n",
       "GarageArea         1\n",
       "GarageQual       159\n",
       "GarageCond       159\n",
       "PoolQC          2909\n",
       "Fence           2348\n",
       "MiscFeature     2814\n",
       "SaleType           1\n",
       "dtype: int64"
      ]
     },
     "execution_count": 52,
     "metadata": {},
     "output_type": "execute_result"
    }
   ],
   "source": [
    "isna=Merged.isna().sum()\n",
    "Merged_missing=isna[isna!=0]\n",
    "Merged_missing"
   ]
  },
  {
   "cell_type": "code",
   "execution_count": 53,
   "metadata": {},
   "outputs": [
    {
     "name": "stdout",
     "output_type": "stream",
     "text": [
      "['Alley', 'FireplaceQu', 'PoolQC', 'Fence', 'MiscFeature']\n"
     ]
    }
   ],
   "source": [
    "TooManyMissing=list(Merged_missing[Merged_missing>1000].index)\n",
    "print(TooManyMissing)"
   ]
  },
  {
   "cell_type": "code",
   "execution_count": 54,
   "metadata": {},
   "outputs": [],
   "source": [
    "Train=Train.drop(TooManyMissing,axis='columns')\n",
    "Test=Test.drop(TooManyMissing,axis='columns')\n",
    "Merged=Merged.drop(TooManyMissing,axis='columns')\n",
    "Train_no_sales=Train_no_sales.drop(TooManyMissing,axis='columns')\n",
    "Train_Copy=Train.copy()\n",
    "Test_Copy=Test.copy()\n",
    "Merged_Copy=Merged.copy()"
   ]
  },
  {
   "cell_type": "code",
   "execution_count": 55,
   "metadata": {},
   "outputs": [],
   "source": [
    "CatCol=list(Train.select_dtypes(include='object').columns)\n",
    "ConCol=list(Train.select_dtypes(exclude='object').columns)\n",
    "ConCol_=list(Train.select_dtypes(exclude='object').columns)\n",
    "ConCol.remove('SalePrice')"
   ]
  },
  {
   "cell_type": "markdown",
   "metadata": {},
   "source": [
    "for column in ConCol:\n",
    "    Train.plot(x=column,y='SalePrice',kind='scatter')\n",
    "    plt.show()"
   ]
  },
  {
   "cell_type": "code",
   "execution_count": 56,
   "metadata": {},
   "outputs": [],
   "source": [
    "To_drop_list=['BsmtFinSF2','LowQualFinSF','3SsnPorch','PoolArea','MiscVal']"
   ]
  },
  {
   "cell_type": "code",
   "execution_count": 57,
   "metadata": {},
   "outputs": [],
   "source": [
    "Train=Train.drop(To_drop_list,axis='columns')\n",
    "Test=Test.drop(To_drop_list,axis='columns')\n",
    "Merged=Merged.drop(To_drop_list,axis='columns')\n",
    "Train_no_sales=Train_no_sales.drop(To_drop_list,axis='columns')\n",
    "Train_Copy=Train.copy()\n",
    "Test_Copy=Test.copy()\n",
    "Merged_Copy=Merged.copy()\n",
    "ConCol=list(Train.select_dtypes(exclude='object').columns)\n",
    "ConCol_=list(Train.select_dtypes(exclude='object').columns)\n",
    "ConCol.remove('SalePrice')"
   ]
  },
  {
   "cell_type": "markdown",
   "metadata": {
    "scrolled": false
   },
   "source": [
    "for i in CatCol:\n",
    "    sns.boxplot(x=i,y='SalePrice',data=Train)\n",
    "    sns.swarmplot(x=i,y='SalePrice',data=Train)\n",
    "    plt.show()\n",
    "    print(Train.groupby(i)['SalePrice'].agg(['mean','std','median','count']).sort_values(['mean','count'],ascending=False))"
   ]
  },
  {
   "cell_type": "code",
   "execution_count": 58,
   "metadata": {},
   "outputs": [],
   "source": [
    "To_drop_list=['Utilities','Street','LandSlope','Condition2','RoofMatl','BsmtFinType2']"
   ]
  },
  {
   "cell_type": "code",
   "execution_count": 59,
   "metadata": {},
   "outputs": [],
   "source": [
    "Train=Train.drop(To_drop_list,axis='columns')\n",
    "Test=Test.drop(To_drop_list,axis='columns')\n",
    "Merged=Merged.drop(To_drop_list,axis='columns')\n",
    "Train_no_sales=Train_no_sales.drop(To_drop_list,axis='columns')\n",
    "Train_Copy=Train.copy()\n",
    "Test_Copy=Test.copy()\n",
    "Merged_Copy=Merged.copy()\n",
    "CatCol=list(Train.select_dtypes(include='object').columns)"
   ]
  },
  {
   "cell_type": "code",
   "execution_count": 60,
   "metadata": {},
   "outputs": [],
   "source": [
    "ConCol.remove('MSSubClass')\n",
    "CatCol=['MSSubClass']+CatCol"
   ]
  },
  {
   "cell_type": "code",
   "execution_count": 61,
   "metadata": {},
   "outputs": [
    {
     "name": "stdout",
     "output_type": "stream",
     "text": [
      "MSSubClass [ 60  20  70  50 190  45  90 120  30  85  80 160  75 180  40]\n",
      "MSZoning ['RL' 'RM' 'C (all)' 'FV' 'RH']\n",
      "LotShape ['Reg' 'IR1' 'IR2' 'IR3']\n",
      "LandContour ['Lvl' 'Bnk' 'Low' 'HLS']\n",
      "LotConfig ['Inside' 'FR2' 'Corner' 'CulDSac' 'FR3']\n",
      "Neighborhood ['CollgCr' 'Veenker' 'Crawfor' 'NoRidge' 'Mitchel' 'Somerst' 'NWAmes'\n",
      " 'OldTown' 'BrkSide' 'Sawyer' 'NridgHt' 'NAmes' 'SawyerW' 'IDOTRR'\n",
      " 'MeadowV' 'Edwards' 'Timber' 'Gilbert' 'StoneBr' 'ClearCr' 'NPkVill'\n",
      " 'Blmngtn' 'BrDale' 'SWISU' 'Blueste']\n",
      "Condition1 ['Norm' 'Feedr' 'PosN' 'Artery' 'RRAe' 'RRNn' 'RRAn' 'PosA' 'RRNe']\n",
      "BldgType ['1Fam' '2fmCon' 'Duplex' 'TwnhsE' 'Twnhs']\n",
      "HouseStyle ['2Story' '1Story' '1.5Fin' '1.5Unf' 'SFoyer' 'SLvl' '2.5Unf' '2.5Fin']\n",
      "RoofStyle ['Gable' 'Hip' 'Gambrel' 'Mansard' 'Flat' 'Shed']\n",
      "Exterior1st ['VinylSd' 'MetalSd' 'Wd Sdng' 'HdBoard' 'BrkFace' 'WdShing' 'CemntBd'\n",
      " 'Plywood' 'AsbShng' 'Stucco' 'BrkComm' 'AsphShn' 'Stone' 'ImStucc'\n",
      " 'CBlock']\n",
      "Exterior2nd ['VinylSd' 'MetalSd' 'Wd Shng' 'HdBoard' 'Plywood' 'Wd Sdng' 'CmentBd'\n",
      " 'BrkFace' 'Stucco' 'AsbShng' 'Brk Cmn' 'ImStucc' 'AsphShn' 'Stone'\n",
      " 'Other' 'CBlock']\n",
      "MasVnrType ['BrkFace' 'None' 'Stone' 'BrkCmn' nan]\n",
      "ExterQual ['Gd' 'TA' 'Ex' 'Fa']\n",
      "ExterCond ['TA' 'Gd' 'Fa' 'Po' 'Ex']\n",
      "Foundation ['PConc' 'CBlock' 'BrkTil' 'Wood' 'Slab' 'Stone']\n",
      "BsmtQual ['Gd' 'TA' 'Ex' nan 'Fa']\n",
      "BsmtCond ['TA' 'Gd' nan 'Fa' 'Po']\n",
      "BsmtExposure ['No' 'Gd' 'Mn' 'Av' nan]\n",
      "BsmtFinType1 ['GLQ' 'ALQ' 'Unf' 'Rec' 'BLQ' nan 'LwQ']\n",
      "Heating ['GasA' 'GasW' 'Grav' 'Wall' 'OthW' 'Floor']\n",
      "HeatingQC ['Ex' 'Gd' 'TA' 'Fa' 'Po']\n",
      "CentralAir ['Y' 'N']\n",
      "Electrical ['SBrkr' 'FuseF' 'FuseA' 'FuseP' 'Mix' nan]\n",
      "KitchenQual ['Gd' 'TA' 'Ex' 'Fa']\n",
      "Functional ['Typ' 'Min1' 'Maj1' 'Min2' 'Mod' 'Maj2' 'Sev']\n",
      "GarageType ['Attchd' 'Detchd' 'BuiltIn' 'CarPort' nan 'Basment' '2Types']\n",
      "GarageFinish ['RFn' 'Unf' 'Fin' nan]\n",
      "GarageQual ['TA' 'Fa' 'Gd' nan 'Ex' 'Po']\n",
      "GarageCond ['TA' 'Fa' nan 'Gd' 'Po' 'Ex']\n",
      "PavedDrive ['Y' 'N' 'P']\n",
      "SaleType ['WD' 'New' 'COD' 'ConLD' 'ConLI' 'CWD' 'ConLw' 'Con' 'Oth']\n",
      "SaleCondition ['Normal' 'Abnorml' 'Partial' 'AdjLand' 'Alloca' 'Family']\n",
      "['MSSubClass', 'MSZoning', 'LotShape', 'LandContour', 'LotConfig', 'Neighborhood', 'Condition1', 'BldgType', 'HouseStyle', 'RoofStyle', 'Exterior1st', 'Exterior2nd', 'MasVnrType', 'ExterQual', 'ExterCond', 'Foundation', 'BsmtQual', 'BsmtCond', 'BsmtExposure', 'BsmtFinType1', 'Heating', 'HeatingQC', 'CentralAir', 'Electrical', 'KitchenQual', 'Functional', 'GarageType', 'GarageFinish', 'GarageQual', 'GarageCond', 'PavedDrive', 'SaleType', 'SaleCondition']\n"
     ]
    }
   ],
   "source": [
    "for i in CatCol:\n",
    "    print(i, Train[i].unique())\n",
    "print(CatCol)"
   ]
  },
  {
   "cell_type": "code",
   "execution_count": 62,
   "metadata": {},
   "outputs": [],
   "source": [
    "NomCol=['GarageCond','GarageQual','KitchenQual','HeatingQC','BsmtExposure','BsmtCond','BsmtQual','ExterQual']"
   ]
  },
  {
   "cell_type": "markdown",
   "metadata": {},
   "source": [
    "for Variable in CatCol:\n",
    "    rem_excess_cat_el_w_diag(Variable)"
   ]
  },
  {
   "cell_type": "code",
   "execution_count": 63,
   "metadata": {},
   "outputs": [
    {
     "name": "stdout",
     "output_type": "stream",
     "text": [
      "Due to absense of150 in Train DataFrame, it was replaced with 40\n",
      "Due to absense ofnan in Train DataFrame, it was replaced with C (all)\n",
      "Due to absense ofnan in Train DataFrame, it was replaced with AsphShn\n",
      "Due to absense ofnan in Train DataFrame, it was replaced with CBlock\n",
      "Due to absense ofnan in Train DataFrame, it was replaced with Fa\n",
      "Due to absense ofnan in Train DataFrame, it was replaced with Sev\n",
      "Due to absense ofnan in Train DataFrame, it was replaced with Con\n"
     ]
    }
   ],
   "source": [
    "for Variable in CatCol:\n",
    "    rem_excess_cat_el_w_O_diag(Variable,diff_thresh=1500,count_min_thresh=50)"
   ]
  },
  {
   "cell_type": "code",
   "execution_count": 64,
   "metadata": {},
   "outputs": [],
   "source": [
    "CatCol=[i for i in CatCol if i not in NomCol]\n",
    "ConCol=ConCol+NomCol"
   ]
  },
  {
   "cell_type": "code",
   "execution_count": 65,
   "metadata": {},
   "outputs": [],
   "source": [
    "bin_map  = {'TA':2,'Gd':3, 'Fa':1,'Ex':4,'Po':1,'None':0,'Y':1,'N':0,'Reg':3,'IR1':2,'IR2':1,'IR3':0,\"None\" : 0,\n",
    "            \"No\" : 2, \"Mn\" : 2, \"Av\": 3,\"Gd\" : 4,\"Unf\" : 1, \"LwQ\": 2, \"Rec\" : 3,\"BLQ\" : 4, \"ALQ\" : 5, \"GLQ\" : 6\n",
    "            }\n",
    "for i in NomCol:\n",
    "    Merged[i] = Merged[i].map(bin_map)\n",
    "    Train[i] = Train[i].map(bin_map)\n",
    "    Test[i] = Test[i].map(bin_map)\n",
    "Merged_Copy=Merged.copy()"
   ]
  },
  {
   "cell_type": "markdown",
   "metadata": {},
   "source": [
    "Merged_isna=Merged.isna()\n",
    "Merged_isna_columns=list(Merged.isna().any()[Merged.isna().any()==True].index)"
   ]
  },
  {
   "cell_type": "markdown",
   "metadata": {},
   "source": [
    "print(Merged_isna_columns)"
   ]
  },
  {
   "cell_type": "markdown",
   "metadata": {},
   "source": [
    "C=list(Merged['LotFrontage'][Merged['LotFrontage'].isna()].index)\n",
    "print(C)"
   ]
  },
  {
   "cell_type": "code",
   "execution_count": 66,
   "metadata": {},
   "outputs": [
    {
     "data": {
      "image/png": "[encoded data removed]",
      "text/plain": [
       "<Figure size 432x288 with 1 Axes>"
      ]
     },
     "metadata": {
      "needs_background": "light"
     },
     "output_type": "display_data"
    },
    {
     "data": {
      "image/png": "[encoded data removed]",
      "text/plain": [
       "<Figure size 432x288 with 1 Axes>"
      ]
     },
     "metadata": {
      "needs_background": "light"
     },
     "output_type": "display_data"
    },
    {
     "data": {
      "image/png": "[encoded data removed]",
      "text/plain": [
       "<Figure size 432x288 with 1 Axes>"
      ]
     },
     "metadata": {
      "needs_background": "light"
     },
     "output_type": "display_data"
    },
    {
     "data": {
      "image/png": "[encoded data removed]",
      "text/plain": [
       "<Figure size 432x288 with 1 Axes>"
      ]
     },
     "metadata": {
      "needs_background": "light"
     },
     "output_type": "display_data"
    },
    {
     "data": {
      "image/png": "[encoded data removed]",
      "text/plain": [
       "<Figure size 432x288 with 1 Axes>"
      ]
     },
     "metadata": {
      "needs_background": "light"
     },
     "output_type": "display_data"
    },
    {
     "data": {
      "image/png": "[encoded data removed]",
      "text/plain": [
       "<Figure size 432x288 with 1 Axes>"
      ]
     },
     "metadata": {
      "needs_background": "light"
     },
     "output_type": "display_data"
    },
    {
     "data": {
      "image/png": "[encoded data removed]",
      "text/plain": [
       "<Figure size 432x288 with 1 Axes>"
      ]
     },
     "metadata": {
      "needs_background": "light"
     },
     "output_type": "display_data"
    },
    {
     "data": {
      "image/png": "[encoded data removed]",
      "text/plain": [
       "<Figure size 432x288 with 1 Axes>"
      ]
     },
     "metadata": {
      "needs_background": "light"
     },
     "output_type": "display_data"
    }
   ],
   "source": [
    "for i in NomCol:\n",
    "    sns.scatterplot(x=i,y='SalePrice',data=Train)\n",
    "    plt.show()"
   ]
  },
  {
   "cell_type": "code",
   "execution_count": 67,
   "metadata": {},
   "outputs": [],
   "source": [
    "for i in ConCol:\n",
    "    Filler=0\n",
    "    Merged[i]=Merged[i].fillna(Filler)\n",
    "    Train[i]=Train[i].fillna(Filler)\n",
    "    Test[i]=Test[i].fillna(Filler)"
   ]
  },
  {
   "cell_type": "code",
   "execution_count": 68,
   "metadata": {},
   "outputs": [],
   "source": [
    "for i in CatCol:\n",
    "    Filler=Train[i].mode().iloc[0]\n",
    "    Merged[i]=Merged[i].fillna(Filler)\n",
    "    Train[i]=Train[i].fillna(Filler)\n",
    "    Test[i]=Test[i].fillna(Filler)"
   ]
  },
  {
   "cell_type": "code",
   "execution_count": 69,
   "metadata": {
    "scrolled": false
   },
   "outputs": [
    {
     "name": "stdout",
     "output_type": "stream",
     "text": [
      "0\n",
      "0\n"
     ]
    }
   ],
   "source": [
    "print(Merged[CatCol].isna().sum().sum())\n",
    "print(Merged[ConCol].isna().sum().sum())"
   ]
  },
  {
   "cell_type": "code",
   "execution_count": 70,
   "metadata": {},
   "outputs": [],
   "source": [
    "sc1=StandardScaler()\n",
    "Train=Merged.iloc[:1460]\n",
    "Test=Merged.iloc[1460:]"
   ]
  },
  {
   "cell_type": "code",
   "execution_count": 71,
   "metadata": {},
   "outputs": [
    {
     "name": "stdout",
     "output_type": "stream",
     "text": [
      "(1460, 132)\n"
     ]
    }
   ],
   "source": [
    "TrainContinuous = sc1.fit_transform(Train[ConCol])\n",
    "TestContinuous = sc1.transform(Test[ConCol])\n",
    "\n",
    "\n",
    "One_Hot = OneHotEncoder().fit(Train[CatCol])\n",
    "TrainCategorical = One_Hot.transform(Train[CatCol]).toarray()\n",
    "TestCategorical = One_Hot.transform(Test[CatCol]).toarray()\n",
    "TrainX = np.hstack((TrainCategorical, TrainContinuous))\n",
    "TestX = np.hstack((TestCategorical, TestContinuous))\n",
    "y=Train_Copy['SalePrice'].values\n",
    "print(TrainX.shape)"
   ]
  },
  {
   "cell_type": "code",
   "execution_count": 72,
   "metadata": {},
   "outputs": [],
   "source": [
    "linear_regression = LinearRegression()\n",
    "random_state=10"
   ]
  },
  {
   "cell_type": "code",
   "execution_count": 73,
   "metadata": {},
   "outputs": [],
   "source": [
    "X_train, X_test, y_train, y_test = train_test_split(TrainX, y, test_size= 0.33, random_state = random_state)"
   ]
  },
  {
   "cell_type": "code",
   "execution_count": 74,
   "metadata": {},
   "outputs": [
    {
     "name": "stdout",
     "output_type": "stream",
     "text": [
      "LinearRegression Score= 29334.42358429464\n"
     ]
    }
   ],
   "source": [
    "linear_regression.fit(X_train, y_train)\n",
    "y_pred = linear_regression.predict(X_test)\n",
    "score=mean_squared_error(y_test, y_pred, squared= False)\n",
    "print(f'LinearRegression Score= {score}')"
   ]
  },
  {
   "cell_type": "code",
   "execution_count": 75,
   "metadata": {},
   "outputs": [],
   "source": [
    "gradient_boosting_regressor= GradientBoostingRegressor(n_estimators=3000, learning_rate=0.05,\n",
    "                                   max_depth=4, max_features='sqrt',\n",
    "                                   min_samples_leaf=15, min_samples_split=10, \n",
    "                                   loss='huber', random_state = random_state)"
   ]
  },
  {
   "cell_type": "code",
   "execution_count": 76,
   "metadata": {},
   "outputs": [],
   "source": [
    "y=Train_Copy['SalePrice'].values"
   ]
  },
  {
   "cell_type": "code",
   "execution_count": 77,
   "metadata": {
    "scrolled": true
   },
   "outputs": [
    {
     "name": "stderr",
     "output_type": "stream",
     "text": [
      "C:\\Users\\Dara\\Anaconda3\\lib\\site-packages\\ipykernel_launcher.py:2: SettingWithCopyWarning: \n",
      "A value is trying to be set on a copy of a slice from a DataFrame.\n",
      "Try using .loc[row_indexer,col_indexer] = value instead\n",
      "\n",
      "See the caveats in the documentation: http://pandas.pydata.org/pandas-docs/stable/user_guide/indexing.html#returning-a-view-versus-a-copy\n",
      "  \n"
     ]
    }
   ],
   "source": [
    "reg=gradient_boosting_regressor.fit(TrainX, y)\n",
    "Test['SalePrice']=reg.predict(TestX)\n",
    "prediction_df=Test[['SalePrice']]\n",
    "prediction_df.to_csv('Downloads/Datascience/KaggleStuff/Housing_prediction.csv')"
   ]
  },
  {
   "cell_type": "code",
   "execution_count": 78,
   "metadata": {
    "scrolled": true
   },
   "outputs": [
    {
     "data": {
      "text/html": [
       "<div>\n",
       "<style scoped>\n",
       "    .dataframe tbody tr th:only-of-type {\n",
       "        vertical-align: middle;\n",
       "    }\n",
       "\n",
       "    .dataframe tbody tr th {\n",
       "        vertical-align: top;\n",
       "    }\n",
       "\n",
       "    .dataframe thead th {\n",
       "        text-align: right;\n",
       "    }\n",
       "</style>\n",
       "<table border=\"1\" class=\"dataframe\">\n",
       "  <thead>\n",
       "    <tr style=\"text-align: right;\">\n",
       "      <th></th>\n",
       "      <th>SalePrice</th>\n",
       "    </tr>\n",
       "    <tr>\n",
       "      <th>Id</th>\n",
       "      <th></th>\n",
       "    </tr>\n",
       "  </thead>\n",
       "  <tbody>\n",
       "    <tr>\n",
       "      <th>1461</th>\n",
       "      <td>119351.049238</td>\n",
       "    </tr>\n",
       "    <tr>\n",
       "      <th>1462</th>\n",
       "      <td>162182.858003</td>\n",
       "    </tr>\n",
       "    <tr>\n",
       "      <th>1463</th>\n",
       "      <td>189556.016392</td>\n",
       "    </tr>\n",
       "    <tr>\n",
       "      <th>1464</th>\n",
       "      <td>201060.962318</td>\n",
       "    </tr>\n",
       "    <tr>\n",
       "      <th>1465</th>\n",
       "      <td>178278.466529</td>\n",
       "    </tr>\n",
       "  </tbody>\n",
       "</table>\n",
       "</div>"
      ],
      "text/plain": [
       "          SalePrice\n",
       "Id                 \n",
       "1461  119351.049238\n",
       "1462  162182.858003\n",
       "1463  189556.016392\n",
       "1464  201060.962318\n",
       "1465  178278.466529"
      ]
     },
     "execution_count": 78,
     "metadata": {},
     "output_type": "execute_result"
    }
   ],
   "source": [
    "prediction_df.head()"
   ]
  },
  {
   "cell_type": "code",
   "execution_count": 83,
   "metadata": {},
   "outputs": [],
   "source": []
  },
  {
   "cell_type": "code",
   "execution_count": 84,
   "metadata": {},
   "outputs": [],
   "source": [
    "xgb_regressor= xgb.XGBRegressor(colsample_bytree=0.4603, gamma=0.0468, learning_rate=0.05, max_depth=3, \n",
    "                             min_child_weight=1.7817, n_estimators=2200, reg_alpha=0.4640, reg_lambda=0.8571,\n",
    "                             subsample=0.5213,verbosity=0, nthread = -1, random_state = random_state)"
   ]
  },
  {
   "cell_type": "code",
   "execution_count": 85,
   "metadata": {},
   "outputs": [
    {
     "name": "stderr",
     "output_type": "stream",
     "text": [
      "C:\\Users\\Dara\\Anaconda3\\lib\\site-packages\\ipykernel_launcher.py:2: SettingWithCopyWarning: \n",
      "A value is trying to be set on a copy of a slice from a DataFrame.\n",
      "Try using .loc[row_indexer,col_indexer] = value instead\n",
      "\n",
      "See the caveats in the documentation: http://pandas.pydata.org/pandas-docs/stable/user_guide/indexing.html#returning-a-view-versus-a-copy\n",
      "  \n"
     ]
    }
   ],
   "source": [
    "reg=xgb_regressor.fit(TrainX, y)\n",
    "Test['SalePrice']=reg.predict(TestX)\n",
    "prediction_df=Test[['SalePrice']]\n",
    "prediction_df.to_csv('Downloads/Datascience/KaggleStuff/Housing_prediction.csv')"
   ]
  },
  {
   "cell_type": "code",
   "execution_count": 95,
   "metadata": {},
   "outputs": [],
   "source": [
    "lgbm_regressor= lgb.LGBMRegressor(objective='regression',num_leaves=5,learning_rate=0.05, n_estimators=720,\n",
    "                              max_bin = 55, bagging_fraction = 0.8,bagging_freq = 5, feature_fraction = 0.2319,\n",
    "                              feature_fraction_seed=9, bagging_seed=9,min_data_in_leaf =6, min_sum_hessian_in_leaf = 11,\n",
    "                                  random_state = random_state)"
   ]
  },
  {
   "cell_type": "code",
   "execution_count": 96,
   "metadata": {},
   "outputs": [
    {
     "name": "stdout",
     "output_type": "stream",
     "text": [
      "[LightGBM] [Warning] feature_fraction is set=0.2319, colsample_bytree=1.0 will be ignored. Current value: feature_fraction=0.2319\n",
      "[LightGBM] [Warning] min_data_in_leaf is set=6, min_child_samples=20 will be ignored. Current value: min_data_in_leaf=6\n",
      "[LightGBM] [Warning] min_sum_hessian_in_leaf is set=11, min_child_weight=0.001 will be ignored. Current value: min_sum_hessian_in_leaf=11\n",
      "[LightGBM] [Warning] bagging_fraction is set=0.8, subsample=1.0 will be ignored. Current value: bagging_fraction=0.8\n",
      "[LightGBM] [Warning] bagging_freq is set=5, subsample_freq=0 will be ignored. Current value: bagging_freq=5\n"
     ]
    },
    {
     "name": "stderr",
     "output_type": "stream",
     "text": [
      "C:\\Users\\Dara\\Anaconda3\\lib\\site-packages\\ipykernel_launcher.py:2: SettingWithCopyWarning: \n",
      "A value is trying to be set on a copy of a slice from a DataFrame.\n",
      "Try using .loc[row_indexer,col_indexer] = value instead\n",
      "\n",
      "See the caveats in the documentation: http://pandas.pydata.org/pandas-docs/stable/user_guide/indexing.html#returning-a-view-versus-a-copy\n",
      "  \n"
     ]
    }
   ],
   "source": [
    "reg=lgbm_regressor.fit(TrainX, y)\n",
    "Test['SalePrice']=reg.predict(TestX)\n",
    "prediction_df=Test[['SalePrice']]\n",
    "prediction_df.to_csv('Downloads/Datascience/KaggleStuff/Housing_prediction.csv')"
   ]
  }
 ],
 "metadata": {
  "kernelspec": {
   "display_name": "Python 3",
   "language": "python",
   "name": "python3"
  },
  "language_info": {
   "codemirror_mode": {
    "name": "ipython",
    "version": 3
   },
   "file_extension": ".py",
   "mimetype": "text/x-python",
   "name": "python",
   "nbconvert_exporter": "python",
   "pygments_lexer": "ipython3",
   "version": "3.7.4"
  }
 },
 "nbformat": 4,
 "nbformat_minor": 2
}
